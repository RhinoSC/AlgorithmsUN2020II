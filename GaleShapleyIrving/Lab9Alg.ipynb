{
  "nbformat": 4,
  "nbformat_minor": 0,
  "metadata": {
    "colab": {
      "name": "Lab9Alg.ipynb",
      "provenance": [],
      "authorship_tag": "ABX9TyPYaY00W2f078B6aDgHGUdG",
      "include_colab_link": true
    },
    "kernelspec": {
      "name": "python3",
      "display_name": "Python 3"
    }
  },
  "cells": [
    {
      "cell_type": "markdown",
      "metadata": {
        "id": "view-in-github",
        "colab_type": "text"
      },
      "source": [
        "<a href=\"https://colab.research.google.com/github/csolanoc/AlgorithmsUN2020II/blob/master/GaleShapleyIrving/Lab9Alg.ipynb\" target=\"_parent\"><img src=\"https://colab.research.google.com/assets/colab-badge.svg\" alt=\"Open In Colab\"/></a>"
      ]
    },
    {
      "cell_type": "code",
      "metadata": {
        "id": "og69VPThf00Q"
      },
      "source": [
        "import numpy as np\n",
        "import matplotlib.pyplot as plt"
      ],
      "execution_count": 1,
      "outputs": []
    },
    {
      "cell_type": "code",
      "metadata": {
        "id": "Fjl6E_TDu1hA"
      },
      "source": [
        "# Python3 program for stable marriage problem \n",
        "    \n",
        "# This function returns true if  \n",
        "# woman 'w' prefers man 'm1' over man 'm' \n",
        "def wPrefersM1OverM(prefer, w, m, m1): \n",
        "    \n",
        "    # Check if w prefers m over her  \n",
        "    # current engagment m1 \n",
        "    for i in range(N): \n",
        "          \n",
        "        # If m1 comes before m in lisr of w,  \n",
        "        # then w prefers her current engagement, \n",
        "        # don't do anything \n",
        "        if (prefer[w][i] == m1): \n",
        "            return True\n",
        "  \n",
        "        # If m cmes before m1 in w's list,  \n",
        "        # then free her current engagement  \n",
        "        # and engage her with m \n",
        "        if (prefer[w][i] == m): \n",
        "            return False\n",
        "  \n",
        "# Prints stable matching for N boys and N girls.  \n",
        "# Boys are numbered as 0 to N-1.  \n",
        "# Girls are numbereed as N to 2N-1. \n",
        "def stableMarriage(prefer): \n",
        "    # Stores partner of women. This is our output  \n",
        "    # array that stores paing information.  \n",
        "    # The value of wPartner[i] indicates the partner  \n",
        "    # assigned to woman N+i. Note that the woman numbers  \n",
        "    # between N and 2*N-1. The value -1 indicates  \n",
        "    # that (N+i)'th woman is free \n",
        "    wPartner = [-1 for i in range(N)] \n",
        "  \n",
        "    # An array to store availability of men.  \n",
        "    # If mFree[i] is false, then man 'i' is free, \n",
        "    # otherwise engaged. \n",
        "    mFree = [False for i in range(N)] \n",
        "  \n",
        "    freeCount = N \n",
        "    totalProposal = 0\n",
        "    iteration = 0\n",
        "    # While there are free men \n",
        "    while (freeCount > 0): \n",
        "        # Pick the first free man (we could pick any) \n",
        "        m = 0\n",
        "        while (m < N): \n",
        "            if (mFree[m]): \n",
        "                m += 1\n",
        "                continue\n",
        "  \n",
        "            # One by one go to all women according to  \n",
        "            # m's preferences. Here m is the picked free man \n",
        "            i = 0\n",
        "            while i < N and mFree[m] == False: \n",
        "                w = prefer[m][i] \n",
        "      \n",
        "                # The woman of preference is free,  \n",
        "                # w and m become partners (Note that  \n",
        "                # the partnership maybe changed later).  \n",
        "                # So we can say they are engaged not married \n",
        "                if (wPartner[w - N] == -1): \n",
        "                    wPartner[w - N] = m \n",
        "                    mFree[m] = True\n",
        "                    freeCount -= 1\n",
        "                else:  \n",
        "                      \n",
        "                    # If w is not free \n",
        "                    # Find current engagement of w \n",
        "                    m1 = wPartner[w - N] \n",
        "      \n",
        "                    # If w prefers m over her current engagement m1, \n",
        "                    # then break the engagement between w and m1 and \n",
        "                    # engage m with w. \n",
        "                    if (wPrefersM1OverM(prefer, w, m, m1) == False): \n",
        "                        wPartner[w - N] = m \n",
        "                        mFree[m] = True\n",
        "                        mFree[m1] = False\n",
        "                i += 1\n",
        "      \n",
        "                # End of Else \n",
        "            totalProposal += 1\n",
        "            # End of the for loop that goes  \n",
        "            # to all women in m's list \n",
        "        iteration += 1\n",
        "    # End of main while loop \n",
        "    # Prthe solution \n",
        "    # print(\"Woman \", \" Man\") \n",
        "    # for i in range(N): \n",
        "    #     print(i + N, \"\\t\", wPartner[i]) \n",
        "    #     # print(\"w\" + str((i + N)%N +1), \"\\t\", \"m\" + str(wPartner[i]%N + 1)) \n",
        "    \n",
        "    # print(\"num of proposals: \", totalProposal)\n",
        "    # print(\"num of iterations: \", iteration)\n",
        "    return [iteration, totalProposal]\n",
        "# This code is contributed by Mohit Kumar "
      ],
      "execution_count": 2,
      "outputs": []
    },
    {
      "cell_type": "code",
      "metadata": {
        "colab": {
          "base_uri": "https://localhost:8080/"
        },
        "id": "Il9HzTlbY5jH",
        "outputId": "27f8f0e4-8100-48a5-f459-9a0f6fff0161"
      },
      "source": [
        "# Number of Men or Women \n",
        "N = 40\n",
        "\n",
        "worstCase4 = [[4,5,6,7],[5,6,4,7],[6,4,5,7],[4,5,6,7],\n",
        "          [1,2,3,0],[2,3,0,1],[3,0,1,2],[0,1,2,3]] \n",
        "\n",
        "bestCase4 = [[4,5,6,7],[5,6,4,7],[6,5,4,7],[7,4,6,5],\n",
        "          [0,2,3,1],[1,3,0,2],[2,0,1,3],[3,1,2,0]] \n",
        "\n",
        "# N = 40\n",
        "prefer_listM = [i for i in range(N, 2*N)]\n",
        "List =[[] for i in range(2*N)]\n",
        "\n",
        "\n",
        "worstCase40 = [[40,41,42,43,44,45,46,47,48,49,50,51,52,53,54,55,56,57,58,59,60,61,62,63,64,65,66,67,68,69,70,71,72,73,74,75,76,77,78,79],\n",
        "               [41,42,43,44,45,46,47,48,49,50,51,52,53,54,55,56,57,58,59,60,61,62,63,64,65,66,67,68,69,70,71,72,73,74,75,76,77,78,40,79],\n",
        "               [42,43,44,45,46,47,48,49,50,51,52,53,54,55,56,57,58,59,60,61,62,63,64,65,66,67,68,69,70,71,72,73,74,75,76,77,78,40,41,79],\n",
        "               [43,44,45,46,47,48,49,50,51,52,53,54,55,56,57,58,59,60,61,62,63,64,65,66,67,68,69,70,71,72,73,74,75,76,77,78,40,41,42,79],\n",
        "               [44,45,46,47,48,49,50,51,52,53,54,55,56,57,58,59,60,61,62,63,64,65,66,67,68,69,70,71,72,73,74,75,76,77,78,40,41,42,43,79],\n",
        "               [45,46,47,48,49,50,51,52,53,54,55,56,57,58,59,60,61,62,63,64,65,66,67,68,69,70,71,72,73,74,75,76,77,78,40,41,42,43,44,79],\n",
        "               [46,47,48,49,50,51,52,53,54,55,56,57,58,59,60,61,62,63,64,65,66,67,68,69,70,71,72,73,74,75,76,77,78,40,41,42,43,44,45,79],\n",
        "               [47,48,49,50,51,52,53,54,55,56,57,58,59,60,61,62,63,64,65,66,67,68,69,70,71,72,73,74,75,76,77,78,40,41,42,43,44,45,46,79],\n",
        "               [48,49,50,51,52,53,54,55,56,57,58,59,60,61,62,63,64,65,66,67,68,69,70,71,72,73,74,75,76,77,78,40,41,42,43,44,45,46,47,79],\n",
        "               [49,50,51,52,53,54,55,56,57,58,59,60,61,62,63,64,65,66,67,68,69,70,71,72,73,74,75,76,77,78,40,41,42,43,44,45,46,47,48,79],\n",
        "               [50,51,52,53,54,55,56,57,58,59,60,61,62,63,64,65,66,67,68,69,70,71,72,73,74,75,76,77,78,40,41,42,43,44,45,46,47,48,49,79],\n",
        "               [51,52,53,54,55,56,57,58,59,60,61,62,63,64,65,66,67,68,69,70,71,72,73,74,75,76,77,78,40,41,42,43,44,45,46,47,48,49,50,79],\n",
        "               [52,53,54,55,56,57,58,59,60,61,62,63,64,65,66,67,68,69,70,71,72,73,74,75,76,77,78,40,41,42,43,44,45,46,47,48,49,50,51,79],\n",
        "               [53,54,55,56,57,58,59,60,61,62,63,64,65,66,67,68,69,70,71,72,73,74,75,76,77,78,40,41,42,43,44,45,46,47,48,49,50,51,52,79],\n",
        "               [54,55,56,57,58,59,60,61,62,63,64,65,66,67,68,69,70,71,72,73,74,75,76,77,78,40,41,42,43,44,45,46,47,48,49,50,51,52,53,79],\n",
        "               [55,56,57,58,59,60,61,62,63,64,65,66,67,68,69,70,71,72,73,74,75,76,77,78,40,41,42,43,44,45,46,47,48,49,50,51,52,53,54,79],\n",
        "               [56,57,58,59,60,61,62,63,64,65,66,67,68,69,70,71,72,73,74,75,76,77,78,40,41,42,43,44,45,46,47,48,49,50,51,52,53,54,55,79],\n",
        "               [57,58,59,60,61,62,63,64,65,66,67,68,69,70,71,72,73,74,75,76,77,78,40,41,42,43,44,45,46,47,48,49,50,51,52,53,54,55,56,79],\n",
        "               [58,59,60,61,62,63,64,65,66,67,68,69,70,71,72,73,74,75,76,77,78,40,41,42,43,44,45,46,47,48,49,50,51,52,53,54,55,56,57,79],\n",
        "               [59,60,61,62,63,64,65,66,67,68,69,70,71,72,73,74,75,76,77,78,40,41,42,43,44,45,46,47,48,49,50,51,52,53,54,55,56,57,58,79],\n",
        "               [60,61,62,63,64,65,66,67,68,69,70,71,72,73,74,75,76,77,78,40,41,42,43,44,45,46,47,48,49,50,51,52,53,54,55,56,57,58,59,79],\n",
        "               [61,62,63,64,65,66,67,68,69,70,71,72,73,74,75,76,77,78,40,41,42,43,44,45,46,47,48,49,50,51,52,53,54,55,56,57,58,59,60,79],\n",
        "               [62,63,64,65,66,67,68,69,70,71,72,73,74,75,76,77,78,40,41,42,43,44,45,46,47,48,49,50,51,52,53,54,55,56,57,58,59,60,61,79],\n",
        "               [63,64,65,66,67,68,69,70,71,72,73,74,75,76,77,78,40,41,42,43,44,45,46,47,48,49,50,51,52,53,54,55,56,57,58,59,60,61,62,79],\n",
        "               [64,65,66,67,68,69,70,71,72,73,74,75,76,77,78,40,41,42,43,44,45,46,47,48,49,50,51,52,53,54,55,56,57,58,59,60,61,62,63,79],\n",
        "               [65,66,67,68,69,70,71,72,73,74,75,76,77,78,40,41,42,43,44,45,46,47,48,49,50,51,52,53,54,55,56,57,58,59,60,61,62,63,64,79],\n",
        "               [66,67,68,69,70,71,72,73,74,75,76,77,78,40,41,42,43,44,45,46,47,48,49,50,51,52,53,54,55,56,57,58,59,60,61,62,63,64,65,79],\n",
        "               [67,68,69,70,71,72,73,74,75,76,77,78,40,41,42,43,44,45,46,47,48,49,50,51,52,53,54,55,56,57,58,59,60,61,62,63,64,65,66,79],\n",
        "               [68,69,70,71,72,73,74,75,76,77,78,40,41,42,43,44,45,46,47,48,49,50,51,52,53,54,55,56,57,58,59,60,61,62,63,64,65,66,67,79],\n",
        "               [69,70,71,72,73,74,75,76,77,78,40,41,42,43,44,45,46,47,48,49,50,51,52,53,54,55,56,57,58,59,60,61,62,63,64,65,66,67,68,79],\n",
        "               [70,71,72,73,74,75,76,77,78,40,41,42,43,44,45,46,47,48,49,50,51,52,53,54,55,56,57,58,59,60,61,62,63,64,65,66,67,68,69,79],\n",
        "               [71,72,73,74,75,76,77,78,40,41,42,43,44,45,46,47,48,49,50,51,52,53,54,55,56,57,58,59,60,61,62,63,64,65,66,67,68,69,70,79],\n",
        "               [72,73,74,75,76,77,78,40,41,42,43,44,45,46,47,48,49,50,51,52,53,54,55,56,57,58,59,60,61,62,63,64,65,66,67,68,69,70,71,79],\n",
        "               [73,74,75,76,77,78,40,41,42,43,44,45,46,47,48,49,50,51,52,53,54,55,56,57,58,59,60,61,62,63,64,65,66,67,68,69,70,71,72,79],\n",
        "               [74,75,76,77,78,40,41,42,43,44,45,46,47,48,49,50,51,52,53,54,55,56,57,58,59,60,61,62,63,64,65,66,67,68,69,70,71,72,73,79],\n",
        "               [75,76,77,78,40,41,42,43,44,45,46,47,48,49,50,51,52,53,54,55,56,57,58,59,60,61,62,63,64,65,66,67,68,69,70,71,72,73,74,79],\n",
        "               [76,77,78,40,41,42,43,44,45,46,47,48,49,50,51,52,53,54,55,56,57,58,59,60,61,62,63,64,65,66,67,68,69,70,71,72,73,74,75,79],\n",
        "               [77,78,40,41,42,43,44,45,46,47,48,49,50,51,52,53,54,55,56,57,58,59,60,61,62,63,64,65,66,67,68,69,70,71,72,73,74,75,76,79],\n",
        "               [78,40,41,42,43,44,45,46,47,48,49,50,51,52,53,54,55,56,57,58,59,60,61,62,63,64,65,66,67,68,69,70,71,72,73,74,75,76,77,79],\n",
        "               [40,41,42,43,44,45,46,47,48,49,50,51,52,53,54,55,56,57,58,59,60,61,62,63,64,65,66,67,68,69,70,71,72,73,74,75,76,77,78,79],\n",
        "          [1,2,3,4,5,6,7,8,9,10,11,12,13,14,15,16,17,18,19,20,21,22,23,24,25,26,27,28,29,30,31,32,33,34,35,36,37,38,39,0],\n",
        "          [2,3,4,5,6,7,8,9,10,11,12,13,14,15,16,17,18,19,20,21,22,23,24,25,26,27,28,29,30,31,32,33,34,35,36,37,38,39,0,1],\n",
        "          [3,4,5,6,7,8,9,10,11,12,13,14,15,16,17,18,19,20,21,22,23,24,25,26,27,28,29,30,31,32,33,34,35,36,37,38,39,0,1,2],\n",
        "          [4,5,6,7,8,9,10,11,12,13,14,15,16,17,18,19,20,21,22,23,24,25,26,27,28,29,30,31,32,33,34,35,36,37,38,39,0,1,2,3],\n",
        "          [5,6,7,8,9,10,11,12,13,14,15,16,17,18,19,20,21,22,23,24,25,26,27,28,29,30,31,32,33,34,35,36,37,38,39,0,1,2,3,4],\n",
        "          [6,7,8,9,10,11,12,13,14,15,16,17,18,19,20,21,22,23,24,25,26,27,28,29,30,31,32,33,34,35,36,37,38,39,0,1,2,3,4,5],\n",
        "          [7,8,9,10,11,12,13,14,15,16,17,18,19,20,21,22,23,24,25,26,27,28,29,30,31,32,33,34,35,36,37,38,39,0,1,2,3,4,5,6],\n",
        "          [8,9,10,11,12,13,14,15,16,17,18,19,20,21,22,23,24,25,26,27,28,29,30,31,32,33,34,35,36,37,38,39,0,1,2,3,4,5,6,7],\n",
        "          [9,10,11,12,13,14,15,16,17,18,19,20,21,22,23,24,25,26,27,28,29,30,31,32,33,34,35,36,37,38,39,0,1,2,3,4,5,6,7,8],\n",
        "          [10,11,12,13,14,15,16,17,18,19,20,21,22,23,24,25,26,27,28,29,30,31,32,33,34,35,36,37,38,39,0,1,2,3,4,5,6,7,8,9],\n",
        "          [11,12,13,14,15,16,17,18,19,20,21,22,23,24,25,26,27,28,29,30,31,32,33,34,35,36,37,38,39,0,1,2,3,4,5,6,7,8,9,10],\n",
        "          [12,13,14,15,16,17,18,19,20,21,22,23,24,25,26,27,28,29,30,31,32,33,34,35,36,37,38,39,0,1,2,3,4,5,6,7,8,9,10,11],\n",
        "          [13,14,15,16,17,18,19,20,21,22,23,24,25,26,27,28,29,30,31,32,33,34,35,36,37,38,39,0,1,2,3,4,5,6,7,8,9,10,11,12],\n",
        "          [14,15,16,17,18,19,20,21,22,23,24,25,26,27,28,29,30,31,32,33,34,35,36,37,38,39,0,1,2,3,4,5,6,7,8,9,10,11,12,13],\n",
        "          [15,16,17,18,19,20,21,22,23,24,25,26,27,28,29,30,31,32,33,34,35,36,37,38,39,0,1,2,3,4,5,6,7,8,9,10,11,12,13,14],\n",
        "          [16,17,18,19,20,21,22,23,24,25,26,27,28,29,30,31,32,33,34,35,36,37,38,39,0,1,2,3,4,5,6,7,8,9,10,11,12,13,14,15],\n",
        "          [17,18,19,20,21,22,23,24,25,26,27,28,29,30,31,32,33,34,35,36,37,38,39,0,1,2,3,4,5,6,7,8,9,10,11,12,13,14,15,16],\n",
        "          [18,19,20,21,22,23,24,25,26,27,28,29,30,31,32,33,34,35,36,37,38,39,0,1,2,3,4,5,6,7,8,9,10,11,12,13,14,15,16,17],\n",
        "          [19,20,21,22,23,24,25,26,27,28,29,30,31,32,33,34,35,36,37,38,39,0,1,2,3,4,5,6,7,8,9,10,11,12,13,14,15,16,17,18],\n",
        "          [20,21,22,23,24,25,26,27,28,29,30,31,32,33,34,35,36,37,38,39,0,1,2,3,4,5,6,7,8,9,10,11,12,13,14,15,16,17,18,19],\n",
        "          [21,22,23,24,25,26,27,28,29,30,31,32,33,34,35,36,37,38,39,0,1,2,3,4,5,6,7,8,9,10,11,12,13,14,15,16,17,18,19,20],\n",
        "          [22,23,24,25,26,27,28,29,30,31,32,33,34,35,36,37,38,39,0,1,2,3,4,5,6,7,8,9,10,11,12,13,14,15,16,17,18,19,20,21],\n",
        "          [23,24,25,26,27,28,29,30,31,32,33,34,35,36,37,38,39,0,1,2,3,4,5,6,7,8,9,10,11,12,13,14,15,16,17,18,19,20,21,22],\n",
        "          [24,25,26,27,28,29,30,31,32,33,34,35,36,37,38,39,0,1,2,3,4,5,6,7,8,9,10,11,12,13,14,15,16,17,18,19,20,21,22,23],\n",
        "          [25,26,27,28,29,30,31,32,33,34,35,36,37,38,39,0,1,2,3,4,5,6,7,8,9,10,11,12,13,14,15,16,17,18,19,20,21,22,23,24],\n",
        "          [26,27,28,29,30,31,32,33,34,35,36,37,38,39,0,1,2,3,4,5,6,7,8,9,10,11,12,13,14,15,16,17,18,19,20,21,22,23,24,25],\n",
        "          [27,28,29,30,31,32,33,34,35,36,37,38,39,0,1,2,3,4,5,6,7,8,9,10,11,12,13,14,15,16,17,18,19,20,21,22,23,24,25,26],\n",
        "          [28,29,30,31,32,33,34,35,36,37,38,39,0,1,2,3,4,5,6,7,8,9,10,11,12,13,14,15,16,17,18,19,20,21,22,23,24,25,26,27],\n",
        "          [29,30,31,32,33,34,35,36,37,38,39,0,1,2,3,4,5,6,7,8,9,10,11,12,13,14,15,16,17,18,19,20,21,22,23,24,25,26,27,28],\n",
        "          [30,31,32,33,34,35,36,37,38,39,0,1,2,3,4,5,6,7,8,9,10,11,12,13,14,15,16,17,18,19,20,21,22,23,24,25,26,27,28,29],\n",
        "          [31,32,33,34,35,36,37,38,39,0,1,2,3,4,5,6,7,8,9,10,11,12,13,14,15,16,17,18,19,20,21,22,23,24,25,26,27,28,29,30],\n",
        "          [32,33,34,35,36,37,38,39,0,1,2,3,4,5,6,7,8,9,10,11,12,13,14,15,16,17,18,19,20,21,22,23,24,25,26,27,28,29,30,31],\n",
        "          [33,34,35,36,37,38,39,0,1,2,3,4,5,6,7,8,9,10,11,12,13,14,15,16,17,18,19,20,21,22,23,24,25,26,27,28,29,30,31,32],\n",
        "          [34,35,36,37,38,39,0,1,2,3,4,5,6,7,8,9,10,11,12,13,14,15,16,17,18,19,20,21,22,23,24,25,26,27,28,29,30,31,32,33],\n",
        "          [35,36,37,38,39,0,1,2,3,4,5,6,7,8,9,10,11,12,13,14,15,16,17,18,19,20,21,22,23,24,25,26,27,28,29,30,31,32,33,34],\n",
        "          [36,37,38,39,0,1,2,3,4,5,6,7,8,9,10,11,12,13,14,15,16,17,18,19,20,21,22,23,24,25,26,27,28,29,30,31,32,33,34,35],\n",
        "          [37,38,39,0,1,2,3,4,5,6,7,8,9,10,11,12,13,14,15,16,17,18,19,20,21,22,23,24,25,26,27,28,29,30,31,32,33,34,35,36],\n",
        "          [38,39,0,1,2,3,4,5,6,7,8,9,10,11,12,13,14,15,16,17,18,19,20,21,22,23,24,25,26,27,28,29,30,31,32,33,34,35,36,37],\n",
        "          [39,0,1,2,3,4,5,6,7,8,9,10,11,12,13,14,15,16,17,18,19,20,21,22,23,24,25,26,27,28,29,30,31,32,33,34,35,36,37,38]] \n",
        "\n",
        "# bestCase40 = [[4,5,6,7],[5,6,4,7],[6,5,4,7],[7,4,6,5],\n",
        "#           [0,2,3,1],[1,3,0,2],[2,0,1,3],[3,1,2,0]] \n",
        "\n",
        "# prefer = [[5,6,7,8,9],[6,7,8,5,9],[7,8,5,6,9],[8,5,6,7,9],[5,6,7,8,9],\n",
        "#           [1,2,3,4,0],[2,3,4,0,1],[3,4,0,1,2],[4,0,1,2,3],[0,1,2,3,4]]\n",
        "\n",
        "N = 4\n",
        "\n",
        "print(\"Worst case for n = 4\\n\")\n",
        "result1 = stableMarriage(worstCase4)\n",
        "print(\"num of proposals: \", result1[1])\n",
        "print(\"num of iterations: \", result1[0])\n",
        "\n",
        "print(\"\\n\")\n",
        "\n",
        "print(\"Best case for n = 4\\n\")\n",
        "result2 = stableMarriage(bestCase4)\n",
        "print(\"num of proposals: \", result2[1])\n",
        "print(\"num of iterations: \", result2[0])\n",
        "\n",
        "N = 40\n",
        "\n",
        "print(\"\\nWorst case for n = 40\\n\")\n",
        "result1 = stableMarriage(worstCase40)\n",
        "print(\"num of proposals: \", result1[1])\n",
        "print(\"num of iterations: \", result1[0])\n",
        "\n",
        "print(\"\\n\")"
      ],
      "execution_count": 3,
      "outputs": [
        {
          "output_type": "stream",
          "text": [
            "Worst case for n = 4\n",
            "\n",
            "num of proposals:  13\n",
            "num of iterations:  4\n",
            "\n",
            "\n",
            "Best case for n = 4\n",
            "\n",
            "num of proposals:  4\n",
            "num of iterations:  1\n",
            "\n",
            "Worst case for n = 40\n",
            "\n",
            "num of proposals:  1561\n",
            "num of iterations:  40\n",
            "\n",
            "\n"
          ],
          "name": "stdout"
        }
      ]
    },
    {
      "cell_type": "code",
      "metadata": {
        "id": "E4IGsJnjfNR4"
      },
      "source": [
        "def fillPrefer(N):\n",
        "  prefer = []\n",
        "  for i in range(2*N):\n",
        "    if i < N:\n",
        "      result = list(np.random.permutation([j for j in range(N)]))\n",
        "    else:\n",
        "      result = list(np.random.permutation([j for j in range(N,2*N)]))\n",
        "    prefer.append(result)\n",
        "  return prefer"
      ],
      "execution_count": 4,
      "outputs": []
    },
    {
      "cell_type": "code",
      "metadata": {
        "colab": {
          "base_uri": "https://localhost:8080/"
        },
        "id": "UyMSWfY1hCvI",
        "outputId": "b5dc87b9-b165-4562-97fd-e914a8d89e4a"
      },
      "source": [
        "print(fillPrefer(4))"
      ],
      "execution_count": 5,
      "outputs": [
        {
          "output_type": "stream",
          "text": [
            "[[1, 0, 3, 2], [3, 0, 2, 1], [2, 1, 3, 0], [2, 1, 3, 0], [6, 5, 7, 4], [4, 6, 7, 5], [6, 5, 7, 4], [4, 5, 6, 7]]\n"
          ],
          "name": "stdout"
        }
      ]
    },
    {
      "cell_type": "code",
      "metadata": {
        "id": "hDvLN779wyeP"
      },
      "source": [
        "def randomMarriage(N):\n",
        "  i = 0\n",
        "  results = []\n",
        "  while i < 100:\n",
        "    prefer = fillPrefer(40)\n",
        "    temp = stableMarriage(prefer)\n",
        "    results.append(temp[0])\n",
        "    i += 1\n",
        "  \n",
        "  plt.hist(results,density=True,label=['# Iterations'])\n",
        "  plt.xlabel('# Iterations')\n",
        "  plt.ylabel('# Density')\n",
        "\n",
        "  print(\"Min iterations: \", min(results))\n",
        "  print(\"Max iterations: \", max(results))\n",
        "  print(\"Average iterations: \", sum(results)/len(results))\n",
        "  plt.show()\n"
      ],
      "execution_count": 6,
      "outputs": []
    },
    {
      "cell_type": "code",
      "metadata": {
        "colab": {
          "base_uri": "https://localhost:8080/",
          "height": 330
        },
        "id": "MZ6QMWVjzA_Y",
        "outputId": "9e908b05-a7e7-4083-b28e-b3d359c15e9b"
      },
      "source": [
        "N = 40\n",
        "randomMarriage(N)"
      ],
      "execution_count": 7,
      "outputs": [
        {
          "output_type": "stream",
          "text": [
            "Min iterations:  4\n",
            "Max iterations:  18\n",
            "Average iterations:  9.1\n"
          ],
          "name": "stdout"
        },
        {
          "output_type": "display_data",
          "data": {
            "image/png": "[encoded data removed]",
            "text/plain": [
              "<Figure size 432x288 with 1 Axes>"
            ]
          },
          "metadata": {
            "tags": [],
            "needs_background": "light"
          }
        }
      ]
    }
  ]
}