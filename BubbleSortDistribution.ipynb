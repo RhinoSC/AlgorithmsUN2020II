{
  "nbformat": 4,
  "nbformat_minor": 0,
  "metadata": {
    "colab": {
      "name": "BubbleSortDistribution.ipynb",
      "provenance": [],
      "collapsed_sections": []
    },
    "kernelspec": {
      "name": "python3",
      "display_name": "Python 3"
    }
  },
  "cells": [
    {
      "cell_type": "code",
      "metadata": {
        "id": "fuirmi4u0P0n"
      },
      "source": [
        "import itertools as it\r\n",
        "import matplotlib.pyplot as plt\r\n",
        "from matplotlib import colors"
      ],
      "execution_count": 1,
      "outputs": []
    },
    {
      "cell_type": "code",
      "metadata": {
        "id": "dKwbs8Vm4SQO"
      },
      "source": [
        "def swap(v, i, j):\r\n",
        "  t = v[i]\r\n",
        "  v[i] = v[j]\r\n",
        "  v[j] = t"
      ],
      "execution_count": 2,
      "outputs": []
    },
    {
      "cell_type": "code",
      "metadata": {
        "id": "Vh0iez11VXzZ"
      },
      "source": [
        "def newArray(n):\r\n",
        "  arr = []\r\n",
        "  for i in range(n):\r\n",
        "    arr.append(i)\r\n",
        "  \r\n",
        "  return arr"
      ],
      "execution_count": 3,
      "outputs": []
    },
    {
      "cell_type": "code",
      "metadata": {
        "id": "-JWE27_j1ZY8"
      },
      "source": [
        "def bubbleSort(v):\r\n",
        "  pasos = 0\r\n",
        "  cadena = []\r\n",
        "\r\n",
        "  for i in range(len(v)):\r\n",
        "    cadena.append(v[i])\r\n",
        "\r\n",
        "  for i in range(len(cadena)):\r\n",
        "    for j in range(len(cadena)-1, i+1, -1):\r\n",
        "      pasos += 1\r\n",
        "      if (cadena[j] < cadena[j-1]):\r\n",
        "        swap(cadena, j, j-1)\r\n",
        "        pasos += 1\r\n",
        "  \r\n",
        "  return pasos"
      ],
      "execution_count": 4,
      "outputs": []
    },
    {
      "cell_type": "code",
      "metadata": {
        "colab": {
          "base_uri": "https://localhost:8080/",
          "height": 349
        },
        "id": "AzM6gPXn3cH0",
        "outputId": "b2c7c360-a0a3-4fde-96ef-249a2cd8a313"
      },
      "source": [
        "print(\"Ingrese el numero de elementos que contiene el arreglo: \")\r\n",
        "n = input()\r\n",
        "v = newArray(int(n))\r\n",
        "perm = it.permutations(v)\r\n",
        "results = []\r\n",
        "step = []\r\n",
        "for i in list(perm):  \r\n",
        "    # print (\"array:\", i)\r\n",
        "    steps = bubbleSort(i)\r\n",
        "    if not steps in step:\r\n",
        "      step.append(steps)\r\n",
        "    results.append(steps)\r\n",
        "    \r\n",
        "step.append(max(results) + 1)\r\n",
        "\r\n",
        "plt.xlabel = (\"# Steps\")\r\n",
        "plt.ylabel = (\"# Density\")\r\n",
        "plt.hist(results, bins=step, density=True, label=['Num of steps'], color= \"skyblue\")\r\n",
        "plt.show()\r\n",
        "\r\n",
        "print(\"Promedio de steps: \", sum(results) / len(results))\r\n",
        "print(\"Max de steps:\", max(results))\r\n",
        "print(\"Min de steps:\", min(results))"
      ],
      "execution_count": 5,
      "outputs": [
        {
          "output_type": "stream",
          "text": [
            "Ingrese el numero de elementos que contiene el arreglo: \n",
            "10\n"
          ],
          "name": "stdout"
        },
        {
          "output_type": "display_data",
          "data": {
            "image/png": "[encoded data removed]",
            "text/plain": [
              "<Figure size 432x288 with 1 Axes>"
            ]
          },
          "metadata": {
            "tags": [],
            "needs_background": "light"
          }
        },
        {
          "output_type": "stream",
          "text": [
            "Promedio de steps:  54.0\n",
            "Max de steps: 72\n",
            "Min de steps: 36\n"
          ],
          "name": "stdout"
        }
      ]
    }
  ]
}