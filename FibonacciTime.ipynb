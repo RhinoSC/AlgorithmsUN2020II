{
  "nbformat": 4,
  "nbformat_minor": 0,
  "metadata": {
    "kernelspec": {
      "display_name": "Python 3",
      "language": "python",
      "name": "python3"
    },
    "language_info": {
      "codemirror_mode": {
        "name": "ipython",
        "version": 3
      },
      "file_extension": ".py",
      "mimetype": "text/x-python",
      "name": "python",
      "nbconvert_exporter": "python",
      "pygments_lexer": "ipython3",
      "version": "3.4.3"
    },
    "colab": {
      "name": "FibonacciTime.ipynb",
      "provenance": [],
      "collapsed_sections": []
    }
  },
  "cells": [
    {
      "cell_type": "code",
      "metadata": {
        "id": "Cmq94O_OgM6T"
      },
      "source": [
        "import matplotlib.pyplot as plt\r\n",
        "from matplotlib import colors\r\n",
        "import time"
      ],
      "execution_count": null,
      "outputs": []
    },
    {
      "cell_type": "code",
      "metadata": {
        "collapsed": true,
        "id": "mUc3lrGWfbrv"
      },
      "source": [
        "def fibR(n):\n",
        "    if n==0 :\n",
        "        return 0\n",
        "    if n==1 :\n",
        "        return 1\n",
        "    return fibR(n-1)+fibR(n-2)"
      ],
      "execution_count": null,
      "outputs": []
    },
    {
      "cell_type": "code",
      "metadata": {
        "id": "ykIJU7Qbfbr3",
        "colab": {
          "base_uri": "https://localhost:8080/",
          "height": 295
        },
        "outputId": "f78139f1-ad9a-4132-ee3e-96f19a57fa03"
      },
      "source": [
        "times = []\n",
        "arr = []\n",
        "n = 50\n",
        "for i in range(n):\n",
        "  arr.append(i)\n",
        "for i in range(n):\n",
        "  t0 = time.clock()\n",
        "  k = fibR(i)\n",
        "  tf =time.clock()\n",
        "  finalTime = tf - t0\n",
        "  # print(\"n=\",n,\"fib(\",n,\")=\",k,\"time\",finalTime, \"seconds process time\")\n",
        "  times.append(finalTime)\n",
        "\n",
        "plt.bar(arr, times, align='center', color='skyblue')\n",
        "plt.title('Recursive fibonacci')\n",
        "plt.ylabel('Time')\n",
        "plt.xlabel('Fibonacci number')\n",
        "plt.show()\n"
      ],
      "execution_count": 3,
      "outputs": [
        {
          "output_type": "display_data",
          "data": {
            "image/png": "[encoded data removed]",
            "text/plain": [
              "<Figure size 432x288 with 1 Axes>"
            ]
          },
          "metadata": {
            "tags": [],
            "needs_background": "light"
          }
        }
      ]
    },
    {
      "cell_type": "code",
      "metadata": {
        "id": "MH5hKICefbr4"
      },
      "source": [
        "def fibM(n):\n",
        "    memo = {}\n",
        "    def fib(n):\n",
        "        if n==0 :\n",
        "            return 0\n",
        "        if n==1 :\n",
        "            return 1\n",
        "        if (n-2) not in memo:\n",
        "            memo[n-2] = fib(n-2)\n",
        "        if (n-1) not in memo:\n",
        "            memo[n-1] = fib(n-1)\n",
        "        return memo[n-1] + memo[n-2]\n",
        "    return fib(n)"
      ],
      "execution_count": 4,
      "outputs": []
    },
    {
      "cell_type": "code",
      "metadata": {
        "scrolled": true,
        "id": "nisM_KThfbr5",
        "colab": {
          "base_uri": "https://localhost:8080/",
          "height": 295
        },
        "outputId": "1a41df99-20de-4cae-ed31-6d1df75ad7c6"
      },
      "source": [
        "times = []\n",
        "arr = []\n",
        "n = 500\n",
        "for i in range(n):\n",
        "  arr.append(i)\n",
        "for i in range(n):\n",
        "  t0 = time.clock()\n",
        "  k = fibM(n)\n",
        "  tf =time.clock()\n",
        "  finalTime = tf - t0\n",
        "  # print(\"n=\",n,\"fib(\",n,\")=\",k,\"time\",tf - t0, \"seconds process time\")\n",
        "  times.append(finalTime)\n",
        "\n",
        "plt.bar(arr, times, align='center', color='skyblue')\n",
        "plt.title('Fibonacci with memo')\n",
        "plt.ylabel('Time')\n",
        "plt.xlabel('Fibonacci number')\n",
        "plt.show()"
      ],
      "execution_count": 5,
      "outputs": [
        {
          "output_type": "display_data",
          "data": {
            "image/png": "[encoded data removed]",
            "text/plain": [
              "<Figure size 432x288 with 1 Axes>"
            ]
          },
          "metadata": {
            "tags": [],
            "needs_background": "light"
          }
        }
      ]
    },
    {
      "cell_type": "code",
      "metadata": {
        "id": "Op2niHzffbr5"
      },
      "source": [
        "def fib(n):\n",
        "    if n==0 :\n",
        "        return 0\n",
        "    a, b = 0, 1\n",
        "    for i in range(1, n):\n",
        "        a, b = b, a+b\n",
        "    return b"
      ],
      "execution_count": 6,
      "outputs": []
    },
    {
      "cell_type": "code",
      "metadata": {
        "scrolled": true,
        "id": "oFdr_3E_fbr6",
        "colab": {
          "base_uri": "https://localhost:8080/",
          "height": 295
        },
        "outputId": "0c0e0b01-512a-43c7-fdc4-4173cb9738dc"
      },
      "source": [
        "times = []\n",
        "arr = []\n",
        "n = 500\n",
        "for i in range(n):\n",
        "  arr.append(i)\n",
        "for i in range(n):\n",
        "  t0 = time.clock()\n",
        "  k = fib(i)\n",
        "  tf =time.clock()\n",
        "  finalTime = tf - t0\n",
        "  # print(\"n=\",n,\"fib(\",n,\")=\",k,\"time\",tf - t0, \"seconds process time\")\n",
        "  times.append(finalTime)\n",
        "\n",
        "plt.bar(arr, times, align='center', color='skyblue')\n",
        "plt.title('Iterative fibonacci')\n",
        "plt.ylabel('Time')\n",
        "plt.xlabel('Fibonacci number')\n",
        "plt.show()"
      ],
      "execution_count": 7,
      "outputs": [
        {
          "output_type": "display_data",
          "data": {
            "image/png": "[encoded data removed]",
            "text/plain": [
              "<Figure size 432x288 with 1 Axes>"
            ]
          },
          "metadata": {
            "tags": [],
            "needs_background": "light"
          }
        }
      ]
    }
  ]
}